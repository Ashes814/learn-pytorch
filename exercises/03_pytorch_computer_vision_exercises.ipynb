{
  "cells": [
    {
      "cell_type": "markdown",
      "metadata": {
        "colab_type": "text",
        "id": "view-in-github"
      },
      "source": [
        "<a href=\"https://colab.research.google.com/github/mrdbourke/pytorch-deep-learning/blob/main/extras/exercises/03_pytorch_computer_vision_exercises.ipynb\" target=\"_parent\"><img src=\"https://colab.research.google.com/assets/colab-badge.svg\" alt=\"Open In Colab\"/></a>"
      ]
    },
    {
      "cell_type": "markdown",
      "metadata": {
        "id": "Vex99np2wFVt"
      },
      "source": [
        "# 03. PyTorch Computer Vision Exercises\n",
        "\n",
        "The following is a collection of exercises based on computer vision fundamentals in PyTorch.\n",
        "\n",
        "They're a bunch of fun.\n",
        "\n",
        "You're going to get to write plenty of code!\n",
        "\n",
        "## Resources\n",
        "\n",
        "1. These exercises are based on [notebook 03 of the Learn PyTorch for Deep Learning course](https://www.learnpytorch.io/03_pytorch_computer_vision/). \n",
        "2. See a live [walkthrough of the solutions (errors and all) on YouTube](https://youtu.be/_PibmqpEyhA). \n",
        "  * **Note:** Going through these exercises took me just over 3 hours of solid coding, so you should expect around the same.\n",
        "3. See [other solutions on the course GitHub](https://github.com/mrdbourke/pytorch-deep-learning/tree/main/extras/solutions)."
      ]
    },
    {
      "cell_type": "code",
      "execution_count": 1,
      "metadata": {
        "colab": {
          "base_uri": "https://localhost:8080/"
        },
        "id": "GaeYzOTLwWh2",
        "outputId": "17dd5453-9639-4b01-aa18-7ddbfd5c3253"
      },
      "outputs": [
        {
          "name": "stdout",
          "output_type": "stream",
          "text": [
            "Wed Jan 10 23:48:40 2024       \n",
            "+---------------------------------------------------------------------------------------+\n",
            "| NVIDIA-SMI 546.33                 Driver Version: 546.33       CUDA Version: 12.3     |\n",
            "|-----------------------------------------+----------------------+----------------------+\n",
            "| GPU  Name                     TCC/WDDM  | Bus-Id        Disp.A | Volatile Uncorr. ECC |\n",
            "| Fan  Temp   Perf          Pwr:Usage/Cap |         Memory-Usage | GPU-Util  Compute M. |\n",
            "|                                         |                      |               MIG M. |\n",
            "|=========================================+======================+======================|\n",
            "|   0  NVIDIA GeForce RTX 4070 Ti   WDDM  | 00000000:08:00.0  On |                  N/A |\n",
            "| 31%   43C    P8              12W / 285W |    991MiB / 12282MiB |     29%      Default |\n",
            "|                                         |                      |                  N/A |\n",
            "+-----------------------------------------+----------------------+----------------------+\n",
            "                                                                                         \n",
            "+---------------------------------------------------------------------------------------+\n",
            "| Processes:                                                                            |\n",
            "|  GPU   GI   CI        PID   Type   Process name                            GPU Memory |\n",
            "|        ID   ID                                                             Usage      |\n",
            "|=======================================================================================|\n",
            "|    0   N/A  N/A      1488    C+G   ...5n1h2txyewy\\ShellExperienceHost.exe    N/A      |\n",
            "|    0   N/A  N/A      3176    C+G   ...Programs\\Microsoft VS Code\\Code.exe    N/A      |\n",
            "|    0   N/A  N/A      5868    C+G   ...wekyb3d8bbwe\\XboxGameBarWidgets.exe    N/A      |\n",
            "|    0   N/A  N/A      7784    C+G   C:\\Windows\\explorer.exe                   N/A      |\n",
            "|    0   N/A  N/A      8992    C+G   ...nt.CBS_cw5n1h2txyewy\\SearchHost.exe    N/A      |\n",
            "|    0   N/A  N/A      9016    C+G   ...2txyewy\\StartMenuExperienceHost.exe    N/A      |\n",
            "|    0   N/A  N/A     11092    C+G   ...on\\wallpaper_engine\\wallpaper32.exe    N/A      |\n",
            "|    0   N/A  N/A     11268    C+G   ...CBS_cw5n1h2txyewy\\TextInputHost.exe    N/A      |\n",
            "|    0   N/A  N/A     12488    C+G   ...ekyb3d8bbwe\\PhoneExperienceHost.exe    N/A      |\n",
            "|    0   N/A  N/A     13288    C+G   ...GeForce Experience\\NVIDIA Share.exe    N/A      |\n",
            "|    0   N/A  N/A     13960    C+G   ...cal\\Microsoft\\OneDrive\\OneDrive.exe    N/A      |\n",
            "|    0   N/A  N/A     14864    C+G   ...crosoft\\Edge\\Application\\msedge.exe    N/A      |\n",
            "|    0   N/A  N/A     15036    C+G   ...tstore\\bin-7.1.1\\NutstoreClient.exe    N/A      |\n",
            "|    0   N/A  N/A     15232    C+G   ...n\\120.0.2210.121\\msedgewebview2.exe    N/A      |\n",
            "|    0   N/A  N/A     15480    C+G   ...\\cef\\cef.win7x64\\steamwebhelper.exe    N/A      |\n",
            "+---------------------------------------------------------------------------------------+\n"
          ]
        }
      ],
      "source": [
        "# Check for GPU\n",
        "!nvidia-smi"
      ]
    },
    {
      "cell_type": "code",
      "execution_count": 2,
      "metadata": {
        "colab": {
          "base_uri": "https://localhost:8080/",
          "height": 53
        },
        "id": "DNwZLMbCzJLk",
        "outputId": "9c150c50-a092-4f34-9d33-b45247fb080d"
      },
      "outputs": [
        {
          "name": "stdout",
          "output_type": "stream",
          "text": [
            "2.1.2\n"
          ]
        }
      ],
      "source": [
        "# Import torch\n",
        "import torch\n",
        "\n",
        "# Exercises require PyTorch > 1.10.0\n",
        "print(torch.__version__)\n",
        "\n",
        "# TODO: Setup device agnostic code"
      ]
    },
    {
      "cell_type": "markdown",
      "metadata": {
        "id": "FSFX7tc1w-en"
      },
      "source": [
        "## 1. What are 3 areas in industry where computer vision is currently being used?"
      ]
    },
    {
      "cell_type": "code",
      "execution_count": 3,
      "metadata": {
        "id": "VyWRkvWGbCXj"
      },
      "outputs": [],
      "source": [
        "# Autonomous Driving - Object Detection\n",
        "# Paranomic Analysis\n",
        "# Image Classification"
      ]
    },
    {
      "cell_type": "markdown",
      "metadata": {
        "id": "oBK-WI6YxDYa"
      },
      "source": [
        "## 2. Search \"what is overfitting in machine learning\" and write down a sentence about what you find. "
      ]
    },
    {
      "cell_type": "code",
      "execution_count": 4,
      "metadata": {
        "id": "d1rxD6GObCqh"
      },
      "outputs": [],
      "source": [
        "# Good performance on Training Set, but poor at Test Set"
      ]
    },
    {
      "cell_type": "markdown",
      "metadata": {
        "id": "XeYFEqw8xK26"
      },
      "source": [
        "## 3. Search \"ways to prevent overfitting in machine learning\", write down 3 of the things you find and a sentence about each. \n",
        "> **Note:** there are lots of these, so don't worry too much about all of them, just pick 3 and start with those."
      ]
    },
    {
      "cell_type": "code",
      "execution_count": 5,
      "metadata": {
        "id": "ocvOdWKcbEKr"
      },
      "outputs": [],
      "source": [
        "# Big Model\n",
        "# Small Model\n",
        "# Penalty"
      ]
    },
    {
      "cell_type": "markdown",
      "metadata": {
        "id": "DKdEEFEqxM-8"
      },
      "source": [
        "## 4. Spend 20-minutes reading and clicking through the [CNN Explainer website](https://poloclub.github.io/cnn-explainer/).\n",
        "\n",
        "* Upload your own example image using the \"upload\" button on the website and see what happens in each layer of a CNN as your image passes through it."
      ]
    },
    {
      "cell_type": "code",
      "execution_count": null,
      "metadata": {
        "id": "TqZaJIRMbFtS"
      },
      "outputs": [],
      "source": []
    },
    {
      "cell_type": "markdown",
      "metadata": {
        "id": "lvf-3pODxXYI"
      },
      "source": [
        "## 5. Load the [`torchvision.datasets.MNIST()`](https://pytorch.org/vision/stable/generated/torchvision.datasets.MNIST.html#torchvision.datasets.MNIST) train and test datasets."
      ]
    },
    {
      "cell_type": "code",
      "execution_count": 6,
      "metadata": {
        "id": "SHjeuN81bHza"
      },
      "outputs": [],
      "source": [
        "import torchvision\n",
        "from torchvision import datasets\n",
        "from torchvision.transforms import ToTensor\n",
        "\n",
        "train_data = datasets.MNIST(\n",
        "    root=\"../data\",\n",
        "    train=True,\n",
        "    download=True,\n",
        "    transform=ToTensor(),\n",
        "    target_transform=None\n",
        ")\n",
        "\n",
        "test_data = datasets.MNIST(\n",
        "    root=\"../data\",\n",
        "    train=True,\n",
        "    download=False,\n",
        "    transform=ToTensor()\n",
        ")"
      ]
    },
    {
      "cell_type": "code",
      "execution_count": 7,
      "metadata": {},
      "outputs": [
        {
          "data": {
            "text/plain": [
              "(tensor([[[0.0000, 0.0000, 0.0000, 0.0000, 0.0000, 0.0000, 0.0000, 0.0000,\n",
              "           0.0000, 0.0000, 0.0000, 0.0000, 0.0000, 0.0000, 0.0000, 0.0000,\n",
              "           0.0000, 0.0000, 0.0000, 0.0000, 0.0000, 0.0000, 0.0000, 0.0000,\n",
              "           0.0000, 0.0000, 0.0000, 0.0000],\n",
              "          [0.0000, 0.0000, 0.0000, 0.0000, 0.0000, 0.0000, 0.0000, 0.0000,\n",
              "           0.0000, 0.0000, 0.0000, 0.0000, 0.0000, 0.0000, 0.0000, 0.0000,\n",
              "           0.0000, 0.0000, 0.0000, 0.0000, 0.0000, 0.0000, 0.0000, 0.0000,\n",
              "           0.0000, 0.0000, 0.0000, 0.0000],\n",
              "          [0.0000, 0.0000, 0.0000, 0.0000, 0.0000, 0.0000, 0.0000, 0.0000,\n",
              "           0.0000, 0.0000, 0.0000, 0.0000, 0.0000, 0.0000, 0.0000, 0.0000,\n",
              "           0.0000, 0.0000, 0.0000, 0.0000, 0.0000, 0.0000, 0.0000, 0.0000,\n",
              "           0.0000, 0.0000, 0.0000, 0.0000],\n",
              "          [0.0000, 0.0000, 0.0000, 0.0000, 0.0000, 0.0000, 0.0000, 0.0000,\n",
              "           0.0000, 0.0000, 0.0000, 0.0000, 0.0000, 0.0000, 0.0000, 0.0000,\n",
              "           0.0000, 0.0000, 0.0000, 0.0000, 0.0000, 0.0000, 0.0000, 0.0000,\n",
              "           0.0000, 0.0000, 0.0000, 0.0000],\n",
              "          [0.0000, 0.0000, 0.0000, 0.0000, 0.0000, 0.0000, 0.0000, 0.0000,\n",
              "           0.0000, 0.0000, 0.0000, 0.0000, 0.0000, 0.0000, 0.0000, 0.0000,\n",
              "           0.0000, 0.0000, 0.0000, 0.0000, 0.0000, 0.0000, 0.0000, 0.0000,\n",
              "           0.0000, 0.0000, 0.0000, 0.0000],\n",
              "          [0.0000, 0.0000, 0.0000, 0.0000, 0.0000, 0.0000, 0.0000, 0.0000,\n",
              "           0.0000, 0.0000, 0.0000, 0.0000, 0.0118, 0.0706, 0.0706, 0.0706,\n",
              "           0.4941, 0.5333, 0.6863, 0.1020, 0.6510, 1.0000, 0.9686, 0.4980,\n",
              "           0.0000, 0.0000, 0.0000, 0.0000],\n",
              "          [0.0000, 0.0000, 0.0000, 0.0000, 0.0000, 0.0000, 0.0000, 0.0000,\n",
              "           0.1176, 0.1412, 0.3686, 0.6039, 0.6667, 0.9922, 0.9922, 0.9922,\n",
              "           0.9922, 0.9922, 0.8824, 0.6745, 0.9922, 0.9490, 0.7647, 0.2510,\n",
              "           0.0000, 0.0000, 0.0000, 0.0000],\n",
              "          [0.0000, 0.0000, 0.0000, 0.0000, 0.0000, 0.0000, 0.0000, 0.1922,\n",
              "           0.9333, 0.9922, 0.9922, 0.9922, 0.9922, 0.9922, 0.9922, 0.9922,\n",
              "           0.9922, 0.9843, 0.3647, 0.3216, 0.3216, 0.2196, 0.1529, 0.0000,\n",
              "           0.0000, 0.0000, 0.0000, 0.0000],\n",
              "          [0.0000, 0.0000, 0.0000, 0.0000, 0.0000, 0.0000, 0.0000, 0.0706,\n",
              "           0.8588, 0.9922, 0.9922, 0.9922, 0.9922, 0.9922, 0.7765, 0.7137,\n",
              "           0.9686, 0.9451, 0.0000, 0.0000, 0.0000, 0.0000, 0.0000, 0.0000,\n",
              "           0.0000, 0.0000, 0.0000, 0.0000],\n",
              "          [0.0000, 0.0000, 0.0000, 0.0000, 0.0000, 0.0000, 0.0000, 0.0000,\n",
              "           0.3137, 0.6118, 0.4196, 0.9922, 0.9922, 0.8039, 0.0431, 0.0000,\n",
              "           0.1686, 0.6039, 0.0000, 0.0000, 0.0000, 0.0000, 0.0000, 0.0000,\n",
              "           0.0000, 0.0000, 0.0000, 0.0000],\n",
              "          [0.0000, 0.0000, 0.0000, 0.0000, 0.0000, 0.0000, 0.0000, 0.0000,\n",
              "           0.0000, 0.0549, 0.0039, 0.6039, 0.9922, 0.3529, 0.0000, 0.0000,\n",
              "           0.0000, 0.0000, 0.0000, 0.0000, 0.0000, 0.0000, 0.0000, 0.0000,\n",
              "           0.0000, 0.0000, 0.0000, 0.0000],\n",
              "          [0.0000, 0.0000, 0.0000, 0.0000, 0.0000, 0.0000, 0.0000, 0.0000,\n",
              "           0.0000, 0.0000, 0.0000, 0.5451, 0.9922, 0.7451, 0.0078, 0.0000,\n",
              "           0.0000, 0.0000, 0.0000, 0.0000, 0.0000, 0.0000, 0.0000, 0.0000,\n",
              "           0.0000, 0.0000, 0.0000, 0.0000],\n",
              "          [0.0000, 0.0000, 0.0000, 0.0000, 0.0000, 0.0000, 0.0000, 0.0000,\n",
              "           0.0000, 0.0000, 0.0000, 0.0431, 0.7451, 0.9922, 0.2745, 0.0000,\n",
              "           0.0000, 0.0000, 0.0000, 0.0000, 0.0000, 0.0000, 0.0000, 0.0000,\n",
              "           0.0000, 0.0000, 0.0000, 0.0000],\n",
              "          [0.0000, 0.0000, 0.0000, 0.0000, 0.0000, 0.0000, 0.0000, 0.0000,\n",
              "           0.0000, 0.0000, 0.0000, 0.0000, 0.1373, 0.9451, 0.8824, 0.6275,\n",
              "           0.4235, 0.0039, 0.0000, 0.0000, 0.0000, 0.0000, 0.0000, 0.0000,\n",
              "           0.0000, 0.0000, 0.0000, 0.0000],\n",
              "          [0.0000, 0.0000, 0.0000, 0.0000, 0.0000, 0.0000, 0.0000, 0.0000,\n",
              "           0.0000, 0.0000, 0.0000, 0.0000, 0.0000, 0.3176, 0.9412, 0.9922,\n",
              "           0.9922, 0.4667, 0.0980, 0.0000, 0.0000, 0.0000, 0.0000, 0.0000,\n",
              "           0.0000, 0.0000, 0.0000, 0.0000],\n",
              "          [0.0000, 0.0000, 0.0000, 0.0000, 0.0000, 0.0000, 0.0000, 0.0000,\n",
              "           0.0000, 0.0000, 0.0000, 0.0000, 0.0000, 0.0000, 0.1765, 0.7294,\n",
              "           0.9922, 0.9922, 0.5882, 0.1059, 0.0000, 0.0000, 0.0000, 0.0000,\n",
              "           0.0000, 0.0000, 0.0000, 0.0000],\n",
              "          [0.0000, 0.0000, 0.0000, 0.0000, 0.0000, 0.0000, 0.0000, 0.0000,\n",
              "           0.0000, 0.0000, 0.0000, 0.0000, 0.0000, 0.0000, 0.0000, 0.0627,\n",
              "           0.3647, 0.9882, 0.9922, 0.7333, 0.0000, 0.0000, 0.0000, 0.0000,\n",
              "           0.0000, 0.0000, 0.0000, 0.0000],\n",
              "          [0.0000, 0.0000, 0.0000, 0.0000, 0.0000, 0.0000, 0.0000, 0.0000,\n",
              "           0.0000, 0.0000, 0.0000, 0.0000, 0.0000, 0.0000, 0.0000, 0.0000,\n",
              "           0.0000, 0.9765, 0.9922, 0.9765, 0.2510, 0.0000, 0.0000, 0.0000,\n",
              "           0.0000, 0.0000, 0.0000, 0.0000],\n",
              "          [0.0000, 0.0000, 0.0000, 0.0000, 0.0000, 0.0000, 0.0000, 0.0000,\n",
              "           0.0000, 0.0000, 0.0000, 0.0000, 0.0000, 0.0000, 0.1804, 0.5098,\n",
              "           0.7176, 0.9922, 0.9922, 0.8118, 0.0078, 0.0000, 0.0000, 0.0000,\n",
              "           0.0000, 0.0000, 0.0000, 0.0000],\n",
              "          [0.0000, 0.0000, 0.0000, 0.0000, 0.0000, 0.0000, 0.0000, 0.0000,\n",
              "           0.0000, 0.0000, 0.0000, 0.0000, 0.1529, 0.5804, 0.8980, 0.9922,\n",
              "           0.9922, 0.9922, 0.9804, 0.7137, 0.0000, 0.0000, 0.0000, 0.0000,\n",
              "           0.0000, 0.0000, 0.0000, 0.0000],\n",
              "          [0.0000, 0.0000, 0.0000, 0.0000, 0.0000, 0.0000, 0.0000, 0.0000,\n",
              "           0.0000, 0.0000, 0.0941, 0.4471, 0.8667, 0.9922, 0.9922, 0.9922,\n",
              "           0.9922, 0.7882, 0.3059, 0.0000, 0.0000, 0.0000, 0.0000, 0.0000,\n",
              "           0.0000, 0.0000, 0.0000, 0.0000],\n",
              "          [0.0000, 0.0000, 0.0000, 0.0000, 0.0000, 0.0000, 0.0000, 0.0000,\n",
              "           0.0902, 0.2588, 0.8353, 0.9922, 0.9922, 0.9922, 0.9922, 0.7765,\n",
              "           0.3176, 0.0078, 0.0000, 0.0000, 0.0000, 0.0000, 0.0000, 0.0000,\n",
              "           0.0000, 0.0000, 0.0000, 0.0000],\n",
              "          [0.0000, 0.0000, 0.0000, 0.0000, 0.0000, 0.0000, 0.0706, 0.6706,\n",
              "           0.8588, 0.9922, 0.9922, 0.9922, 0.9922, 0.7647, 0.3137, 0.0353,\n",
              "           0.0000, 0.0000, 0.0000, 0.0000, 0.0000, 0.0000, 0.0000, 0.0000,\n",
              "           0.0000, 0.0000, 0.0000, 0.0000],\n",
              "          [0.0000, 0.0000, 0.0000, 0.0000, 0.2157, 0.6745, 0.8863, 0.9922,\n",
              "           0.9922, 0.9922, 0.9922, 0.9569, 0.5216, 0.0431, 0.0000, 0.0000,\n",
              "           0.0000, 0.0000, 0.0000, 0.0000, 0.0000, 0.0000, 0.0000, 0.0000,\n",
              "           0.0000, 0.0000, 0.0000, 0.0000],\n",
              "          [0.0000, 0.0000, 0.0000, 0.0000, 0.5333, 0.9922, 0.9922, 0.9922,\n",
              "           0.8314, 0.5294, 0.5176, 0.0627, 0.0000, 0.0000, 0.0000, 0.0000,\n",
              "           0.0000, 0.0000, 0.0000, 0.0000, 0.0000, 0.0000, 0.0000, 0.0000,\n",
              "           0.0000, 0.0000, 0.0000, 0.0000],\n",
              "          [0.0000, 0.0000, 0.0000, 0.0000, 0.0000, 0.0000, 0.0000, 0.0000,\n",
              "           0.0000, 0.0000, 0.0000, 0.0000, 0.0000, 0.0000, 0.0000, 0.0000,\n",
              "           0.0000, 0.0000, 0.0000, 0.0000, 0.0000, 0.0000, 0.0000, 0.0000,\n",
              "           0.0000, 0.0000, 0.0000, 0.0000],\n",
              "          [0.0000, 0.0000, 0.0000, 0.0000, 0.0000, 0.0000, 0.0000, 0.0000,\n",
              "           0.0000, 0.0000, 0.0000, 0.0000, 0.0000, 0.0000, 0.0000, 0.0000,\n",
              "           0.0000, 0.0000, 0.0000, 0.0000, 0.0000, 0.0000, 0.0000, 0.0000,\n",
              "           0.0000, 0.0000, 0.0000, 0.0000],\n",
              "          [0.0000, 0.0000, 0.0000, 0.0000, 0.0000, 0.0000, 0.0000, 0.0000,\n",
              "           0.0000, 0.0000, 0.0000, 0.0000, 0.0000, 0.0000, 0.0000, 0.0000,\n",
              "           0.0000, 0.0000, 0.0000, 0.0000, 0.0000, 0.0000, 0.0000, 0.0000,\n",
              "           0.0000, 0.0000, 0.0000, 0.0000]]]),\n",
              " 5)"
            ]
          },
          "execution_count": 7,
          "metadata": {},
          "output_type": "execute_result"
        }
      ],
      "source": [
        "train_data[0]"
      ]
    },
    {
      "cell_type": "markdown",
      "metadata": {
        "id": "qxZW-uAbxe_F"
      },
      "source": [
        "## 6. Visualize at least 5 different samples of the MNIST training dataset."
      ]
    },
    {
      "cell_type": "code",
      "execution_count": 8,
      "metadata": {
        "id": "QVFsYi1PbItE"
      },
      "outputs": [
        {
          "name": "stdout",
          "output_type": "stream",
          "text": [
            "Image Shape, torch.Size([1, 28, 28])\n",
            "Image Shape, torch.Size([1, 28, 28])\n",
            "Image Shape, torch.Size([1, 28, 28])\n",
            "Image Shape, torch.Size([1, 28, 28])\n",
            "Image Shape, torch.Size([1, 28, 28])\n",
            "Image Shape, torch.Size([1, 28, 28])\n",
            "Image Shape, torch.Size([1, 28, 28])\n",
            "Image Shape, torch.Size([1, 28, 28])\n",
            "Image Shape, torch.Size([1, 28, 28])\n"
          ]
        },
        {
          "data": {
            "image/png": "[encoded data removed]",
            "text/plain": [
              "<Figure size 640x480 with 9 Axes>"
            ]
          },
          "metadata": {},
          "output_type": "display_data"
        }
      ],
      "source": [
        "import matplotlib.pyplot as plt\n",
        "plt.figure()\n",
        "for i in range(9):\n",
        "    plt.subplot(3,3,i + 1)\n",
        "    image, label = train_data[i]\n",
        "    print(f\"Image Shape, {image.shape}\")\n",
        "    plt.imshow(image.squeeze(), cmap=\"gray\")\n",
        "    plt.title(label)\n",
        "plt.show()\n"
      ]
    },
    {
      "cell_type": "markdown",
      "metadata": {
        "id": "JAPDzW0wxhi3"
      },
      "source": [
        "## 7. Turn the MNIST train and test datasets into dataloaders using `torch.utils.data.DataLoader`, set the `batch_size=32`."
      ]
    },
    {
      "cell_type": "code",
      "execution_count": 9,
      "metadata": {
        "id": "ALA6MPcFbJXQ"
      },
      "outputs": [],
      "source": [
        "torch.manual_seed(42)\n",
        "from torch.utils.data import DataLoader\n",
        "\n",
        "BATCH_SIZE = 32;\n",
        "\n",
        "train_loader = DataLoader(train_data,\n",
        "                          batch_size=BATCH_SIZE,\n",
        "                          shuffle=True)\n",
        "test_loader = DataLoader(test_data,\n",
        "                         batch_size=BATCH_SIZE,\n",
        "                         shuffle=False)\n"
      ]
    },
    {
      "cell_type": "markdown",
      "metadata": {
        "id": "bCCVfXk5xjYS"
      },
      "source": [
        "## 8. Recreate `model_2` used in notebook 03 (the same model from the [CNN Explainer website](https://poloclub.github.io/cnn-explainer/), also known as TinyVGG) capable of fitting on the MNIST dataset."
      ]
    },
    {
      "cell_type": "code",
      "execution_count": 10,
      "metadata": {
        "id": "5IKNF22XbKYS"
      },
      "outputs": [],
      "source": [
        "from torch import nn\n",
        "class CNNModelVEXE(nn.Module):\n",
        "    def __init__(self, \n",
        "                 input_shape:int,\n",
        "                 hidden_units:int,\n",
        "                 output_shape:int):\n",
        "        super().__init__()\n",
        "\n",
        "        self.block_1 = nn.Sequential(\n",
        "            nn.Conv2d(in_channels=input_shape,\n",
        "                      out_channels=hidden_units,\n",
        "                      kernel_size=3,\n",
        "                      stride=1,\n",
        "                      padding=1),\n",
        "            nn.ReLU(),\n",
        "            nn.Conv2d(in_channels=hidden_units,\n",
        "                      out_channels=hidden_units,\n",
        "                      kernel_size=3,\n",
        "                      stride=1,\n",
        "                      padding=1),\n",
        "            nn.ReLU(),\n",
        "            nn.MaxPool2d(kernel_size=2,\n",
        "                         stride=2)                       \n",
        "        )\n",
        "        self.block_2 = nn.Sequential(\n",
        "            nn.Conv2d(in_channels=hidden_units,\n",
        "                      out_channels=hidden_units,\n",
        "                      kernel_size=3,\n",
        "                      padding=1),\n",
        "            nn.ReLU(),\n",
        "            nn.Conv2d(in_channels=hidden_units,\n",
        "                      out_channels=hidden_units,\n",
        "                      kernel_size=3,\n",
        "                      padding=1),\n",
        "            nn.MaxPool2d(2)  \n",
        "        )\n",
        "        self.classifier = nn.Sequential(\n",
        "            nn.Flatten(),\n",
        "            nn.Linear(in_features=hidden_units*7*7,\n",
        "                      out_features = output_shape,\n",
        "                      )\n",
        "        )\n",
        "    def forward(self, x:torch.Tensor):\n",
        "        x = self.block_1(x)\n",
        "        x = self.block_2(x)\n",
        "        x = self.classifier(x)\n",
        "        return x;"
      ]
    },
    {
      "cell_type": "code",
      "execution_count": 11,
      "metadata": {},
      "outputs": [],
      "source": [
        "# model_play = CNNModelVEXE(input_shape=1,\n",
        "#                           hidden_units=10,\n",
        "#                               output_shape=len(train_data.classes)).to(\"mps\")\n",
        "# for batch, (X, y) in enumerate(train_loader):\n",
        "#     # print(f\"-------------{batch}-------------\")\n",
        "#     X, y = X.to(\"mps\"), y.to(\"mps\")\n",
        "#     y_pred = model_play(X)\n",
        "#     if (batch == 0):\n",
        "#         print(y_pred.shape)\n",
        "#         print(y_pred)\n",
        "#         print(y.shape)\n",
        "#         print(y)\n",
        "#         print(y_pred.argmax().shape)\n",
        "#         print(y_pred.argmax())\n",
        "\n"
      ]
    },
    {
      "cell_type": "markdown",
      "metadata": {
        "id": "sf_3zUr7xlhy"
      },
      "source": [
        "## 9. Train the model you built in exercise 8. for 5 epochs on CPU and GPU and see how long it takes on each."
      ]
    },
    {
      "cell_type": "code",
      "execution_count": 12,
      "metadata": {
        "id": "jSo6vVWFbNLD"
      },
      "outputs": [],
      "source": [
        "from helper_functions import accuracy_fn\n",
        "device_gpu = \"cuda\" if torch.cuda.is_available() else \"mps\"\n",
        "device_cpu = \"cpu\"\n",
        "torch.manual_seed(42)\n",
        "def train_step(model: torch.nn.Module, \n",
        "               data_loader: torch.utils.data.DataLoader,\n",
        "               loss_fn: torch.nn.Module,\n",
        "               optimizer: torch.optim.Optimizer,\n",
        "               accuracy_fn,\n",
        "               device: torch.device = device_gpu):\n",
        "    train_loss, train_acc = 0, 0\n",
        "    model.to(device)\n",
        "    for batch, (X, y) in enumerate(data_loader):\n",
        "        X, y = X.to(device), y.to(device)\n",
        "        y_pred = model(X)\n",
        "        loss = loss_fn(y_pred, y)\n",
        "        train_loss += loss\n",
        "        train_acc += accuracy_fn(y_true=y,\n",
        "                                 y_pred=y_pred.argmax(dim=1))\n",
        "        optimizer.zero_grad()\n",
        "        loss.backward()\n",
        "        optimizer.step()\n",
        "    train_loss /= len(data_loader)\n",
        "    train_acc /= len(data_loader)\n",
        "    print(f\"Train loss: {train_loss:.5f} | Train accuracy: {train_acc:.2f}%\")\n",
        "def test_step(model: torch.nn.Module, \n",
        "              data_loader: torch.utils.data.DataLoader,\n",
        "              loss_fn: torch.nn.Module,\n",
        "              accuracy_fn,\n",
        "              device: torch.device = device_gpu):\n",
        "    test_loss, test_acc = 0, 0\n",
        "    model.to(device)\n",
        "    model.eval()\n",
        "    with torch.inference_mode():\n",
        "        for X, y in data_loader:\n",
        "            X, y = X.to(device), y.to(device)\n",
        "            y_pred = model(X)\n",
        "            test_loss += loss_fn(y_pred, y)\n",
        "            test_acc += accuracy_fn(y_true=y,\n",
        "                                    y_pred=y_pred.argmax(dim=1))\n",
        "        test_loss /= len(data_loader)\n",
        "        test_acc /= len(data_loader)\n",
        "        print(f\"Test loss: {test_loss:.5f} | Test accuracy: {test_acc:.2f}%\\n\")\n",
        "\n",
        "\n",
        "\n"
      ]
    },
    {
      "cell_type": "code",
      "execution_count": 15,
      "metadata": {},
      "outputs": [],
      "source": [
        "\n",
        "model_exe = CNNModelVEXE(input_shape=1,hidden_units=10, output_shape=len(train_data.classes))\n",
        "loss_fn = nn.CrossEntropyLoss()\n",
        "optimizer = torch.optim.Adam(model_exe.parameters(), lr=1e-3)\n",
        "from timeit import default_timer as timer\n",
        "from tqdm.auto import tqdm\n",
        "train_time_start_model_2 = timer()\n",
        "def print_train_time(start: float, end: float, device: torch.device = None):\n",
        "    \"\"\"Prints difference between start and end time\n",
        "\n",
        "    Args:\n",
        "        start (float): Start time of computation (prefered in timeit format)\n",
        "        end (float): End time of computation\n",
        "        device (torch.device, optional): Device that compute is ruunning on. Defaults to None.\n",
        "    \n",
        "    Returns:\n",
        "        float: time between start and end in seconds (higher is longer)    \n",
        "    \"\"\"\n",
        "    total_time = end - start\n",
        "    print(f\"Train time on {device}: {total_time:.3f} seconds\")\n",
        "    return total_time\n",
        "\n"
      ]
    },
    {
      "cell_type": "code",
      "execution_count": 14,
      "metadata": {},
      "outputs": [
        {
          "data": {
            "application/vnd.jupyter.widget-view+json": {
              "model_id": "229849db04184b5293bb0cf847de9d51",
              "version_major": 2,
              "version_minor": 0
            },
            "text/plain": [
              "  0%|          | 0/30 [00:00<?, ?it/s]"
            ]
          },
          "metadata": {},
          "output_type": "display_data"
        },
        {
          "name": "stdout",
          "output_type": "stream",
          "text": [
            "Epoch: 0\n",
            "--------\n",
            "Train loss: 0.26371 | Train accuracy: 91.73%\n",
            "Test loss: 0.10248 | Test accuracy: 96.93%\n",
            "\n",
            "Epoch: 1\n",
            "--------\n",
            "Train loss: 0.08918 | Train accuracy: 97.27%\n",
            "Test loss: 0.06436 | Test accuracy: 98.01%\n",
            "\n",
            "Epoch: 2\n",
            "--------\n",
            "Train loss: 0.06553 | Train accuracy: 98.00%\n",
            "Test loss: 0.06827 | Test accuracy: 97.82%\n",
            "\n",
            "Epoch: 3\n",
            "--------\n",
            "Train loss: 0.05413 | Train accuracy: 98.30%\n",
            "Test loss: 0.03859 | Test accuracy: 98.84%\n",
            "\n",
            "Epoch: 4\n",
            "--------\n",
            "Train loss: 0.04510 | Train accuracy: 98.58%\n",
            "Test loss: 0.03942 | Test accuracy: 98.79%\n",
            "\n",
            "Epoch: 5\n",
            "--------\n",
            "Train loss: 0.03910 | Train accuracy: 98.78%\n",
            "Test loss: 0.03177 | Test accuracy: 99.03%\n",
            "\n",
            "Epoch: 6\n",
            "--------\n",
            "Train loss: 0.03500 | Train accuracy: 98.88%\n",
            "Test loss: 0.02588 | Test accuracy: 99.21%\n",
            "\n",
            "Epoch: 7\n",
            "--------\n",
            "Train loss: 0.03173 | Train accuracy: 98.99%\n",
            "Test loss: 0.02062 | Test accuracy: 99.36%\n",
            "\n",
            "Epoch: 8\n",
            "--------\n",
            "Train loss: 0.02774 | Train accuracy: 99.15%\n",
            "Test loss: 0.02290 | Test accuracy: 99.30%\n",
            "\n",
            "Epoch: 9\n",
            "--------\n",
            "Train loss: 0.02550 | Train accuracy: 99.13%\n",
            "Test loss: 0.02321 | Test accuracy: 99.24%\n",
            "\n",
            "Epoch: 10\n",
            "--------\n",
            "Train loss: 0.02343 | Train accuracy: 99.24%\n",
            "Test loss: 0.01661 | Test accuracy: 99.45%\n",
            "\n",
            "Epoch: 11\n",
            "--------\n",
            "Train loss: 0.02126 | Train accuracy: 99.28%\n",
            "Test loss: 0.01447 | Test accuracy: 99.55%\n",
            "\n",
            "Epoch: 12\n",
            "--------\n",
            "Train loss: 0.01976 | Train accuracy: 99.35%\n",
            "Test loss: 0.01494 | Test accuracy: 99.48%\n",
            "\n",
            "Epoch: 13\n",
            "--------\n",
            "Train loss: 0.01889 | Train accuracy: 99.39%\n",
            "Test loss: 0.01501 | Test accuracy: 99.49%\n",
            "\n",
            "Epoch: 14\n",
            "--------\n",
            "Train loss: 0.01677 | Train accuracy: 99.44%\n",
            "Test loss: 0.01647 | Test accuracy: 99.44%\n",
            "\n",
            "Epoch: 15\n",
            "--------\n",
            "Train loss: 0.01633 | Train accuracy: 99.49%\n",
            "Test loss: 0.01396 | Test accuracy: 99.53%\n",
            "\n",
            "Epoch: 16\n",
            "--------\n",
            "Train loss: 0.01453 | Train accuracy: 99.52%\n",
            "Test loss: 0.01135 | Test accuracy: 99.58%\n",
            "\n",
            "Epoch: 17\n",
            "--------\n",
            "Train loss: 0.01458 | Train accuracy: 99.52%\n",
            "Test loss: 0.00879 | Test accuracy: 99.72%\n",
            "\n",
            "Epoch: 18\n",
            "--------\n",
            "Train loss: 0.01299 | Train accuracy: 99.59%\n",
            "Test loss: 0.01393 | Test accuracy: 99.52%\n",
            "\n",
            "Epoch: 19\n",
            "--------\n",
            "Train loss: 0.01288 | Train accuracy: 99.58%\n",
            "Test loss: 0.00962 | Test accuracy: 99.66%\n",
            "\n",
            "Epoch: 20\n",
            "--------\n",
            "Train loss: 0.01197 | Train accuracy: 99.60%\n",
            "Test loss: 0.00732 | Test accuracy: 99.76%\n",
            "\n",
            "Epoch: 21\n",
            "--------\n",
            "Train loss: 0.01213 | Train accuracy: 99.56%\n",
            "Test loss: 0.00675 | Test accuracy: 99.78%\n",
            "\n",
            "Epoch: 22\n",
            "--------\n",
            "Train loss: 0.01126 | Train accuracy: 99.61%\n",
            "Test loss: 0.00856 | Test accuracy: 99.70%\n",
            "\n",
            "Epoch: 23\n",
            "--------\n",
            "Train loss: 0.01000 | Train accuracy: 99.66%\n",
            "Test loss: 0.00706 | Test accuracy: 99.77%\n",
            "\n",
            "Epoch: 24\n",
            "--------\n",
            "Train loss: 0.00994 | Train accuracy: 99.67%\n",
            "Test loss: 0.00787 | Test accuracy: 99.73%\n",
            "\n",
            "Epoch: 25\n",
            "--------\n",
            "Train loss: 0.01068 | Train accuracy: 99.61%\n",
            "Test loss: 0.01228 | Test accuracy: 99.55%\n",
            "\n",
            "Epoch: 26\n",
            "--------\n",
            "Train loss: 0.00920 | Train accuracy: 99.66%\n",
            "Test loss: 0.00878 | Test accuracy: 99.67%\n",
            "\n",
            "Epoch: 27\n",
            "--------\n",
            "Train loss: 0.00804 | Train accuracy: 99.73%\n",
            "Test loss: 0.00511 | Test accuracy: 99.85%\n",
            "\n",
            "Epoch: 28\n",
            "--------\n",
            "Train loss: 0.00773 | Train accuracy: 99.73%\n",
            "Test loss: 0.00776 | Test accuracy: 99.74%\n",
            "\n",
            "Epoch: 29\n",
            "--------\n",
            "Train loss: 0.00896 | Train accuracy: 99.68%\n",
            "Test loss: 0.01585 | Test accuracy: 99.47%\n",
            "\n",
            "Train time on cuda: 509.743 seconds\n"
          ]
        }
      ],
      "source": [
        "epochs = 30\n",
        "for epoch in tqdm(range(epochs)):\n",
        "    print(f\"Epoch: {epoch}\\n--------\")\n",
        "    train_step(data_loader=train_loader,\n",
        "               model=model_exe,\n",
        "               loss_fn=loss_fn,\n",
        "               optimizer=optimizer,\n",
        "               accuracy_fn=accuracy_fn,\n",
        "               device=device_gpu)\n",
        "    test_step(data_loader=test_loader,\n",
        "              model=model_exe,\n",
        "              loss_fn=loss_fn,\n",
        "              accuracy_fn=accuracy_fn,\n",
        "              device=device_gpu)\n",
        "train_time_end_model_2 = timer()\n",
        "total_train_time_model_2 = print_train_time(start=train_time_start_model_2,\n",
        "                                            end=train_time_end_model_2,\n",
        "                                            device=device_gpu)"
      ]
    },
    {
      "cell_type": "code",
      "execution_count": 17,
      "metadata": {},
      "outputs": [
        {
          "data": {
            "application/vnd.jupyter.widget-view+json": {
              "model_id": "4c8502d7fe804ff79a34275bbecaad8e",
              "version_major": 2,
              "version_minor": 0
            },
            "text/plain": [
              "  0%|          | 0/30 [00:00<?, ?it/s]"
            ]
          },
          "metadata": {},
          "output_type": "display_data"
        },
        {
          "name": "stdout",
          "output_type": "stream",
          "text": [
            "Epoch: 0\n",
            "--------\n",
            "Train loss: 0.06693 | Train accuracy: 97.99%\n",
            "Test loss: 0.05878 | Test accuracy: 98.19%\n",
            "\n",
            "Epoch: 1\n",
            "--------\n",
            "Train loss: 0.05469 | Train accuracy: 98.35%\n",
            "Test loss: 0.04516 | Test accuracy: 98.60%\n",
            "\n",
            "Epoch: 2\n",
            "--------\n",
            "Train loss: 0.04660 | Train accuracy: 98.54%\n",
            "Test loss: 0.03795 | Test accuracy: 98.86%\n",
            "\n",
            "Epoch: 3\n",
            "--------\n",
            "Train loss: 0.04017 | Train accuracy: 98.75%\n",
            "Test loss: 0.03663 | Test accuracy: 98.81%\n",
            "\n",
            "Epoch: 4\n",
            "--------\n",
            "Train loss: 0.03591 | Train accuracy: 98.86%\n",
            "Test loss: 0.02856 | Test accuracy: 99.11%\n",
            "\n",
            "Epoch: 5\n",
            "--------\n",
            "Train loss: 0.03242 | Train accuracy: 98.94%\n",
            "Test loss: 0.03088 | Test accuracy: 99.01%\n",
            "\n",
            "Epoch: 6\n",
            "--------\n",
            "Train loss: 0.02889 | Train accuracy: 99.06%\n",
            "Test loss: 0.02086 | Test accuracy: 99.31%\n",
            "\n",
            "Epoch: 7\n",
            "--------\n",
            "Train loss: 0.02645 | Train accuracy: 99.12%\n",
            "Test loss: 0.01684 | Test accuracy: 99.47%\n",
            "\n",
            "Epoch: 8\n",
            "--------\n",
            "Train loss: 0.02401 | Train accuracy: 99.21%\n",
            "Test loss: 0.01698 | Test accuracy: 99.44%\n",
            "\n",
            "Epoch: 9\n",
            "--------\n",
            "Train loss: 0.02221 | Train accuracy: 99.28%\n",
            "Test loss: 0.01807 | Test accuracy: 99.40%\n",
            "\n",
            "Epoch: 10\n",
            "--------\n",
            "Train loss: 0.02045 | Train accuracy: 99.31%\n",
            "Test loss: 0.01571 | Test accuracy: 99.49%\n",
            "\n",
            "Epoch: 11\n",
            "--------\n",
            "Train loss: 0.01921 | Train accuracy: 99.32%\n",
            "Test loss: 0.01752 | Test accuracy: 99.40%\n",
            "\n",
            "Epoch: 12\n",
            "--------\n",
            "Train loss: 0.01849 | Train accuracy: 99.42%\n",
            "Test loss: 0.01324 | Test accuracy: 99.54%\n",
            "\n",
            "Epoch: 13\n",
            "--------\n",
            "Train loss: 0.01623 | Train accuracy: 99.47%\n",
            "Test loss: 0.01516 | Test accuracy: 99.48%\n",
            "\n",
            "Epoch: 14\n",
            "--------\n",
            "Train loss: 0.01600 | Train accuracy: 99.42%\n",
            "Test loss: 0.00985 | Test accuracy: 99.69%\n",
            "\n",
            "Epoch: 15\n",
            "--------\n",
            "Train loss: 0.01463 | Train accuracy: 99.49%\n",
            "Test loss: 0.01224 | Test accuracy: 99.58%\n",
            "\n",
            "Epoch: 16\n",
            "--------\n",
            "Train loss: 0.01548 | Train accuracy: 99.49%\n",
            "Test loss: 0.01146 | Test accuracy: 99.60%\n",
            "\n",
            "Epoch: 17\n",
            "--------\n",
            "Train loss: 0.01211 | Train accuracy: 99.61%\n",
            "Test loss: 0.01042 | Test accuracy: 99.66%\n",
            "\n",
            "Epoch: 18\n",
            "--------\n",
            "Train loss: 0.01291 | Train accuracy: 99.57%\n",
            "Test loss: 0.00827 | Test accuracy: 99.72%\n",
            "\n",
            "Epoch: 19\n",
            "--------\n",
            "Train loss: 0.01192 | Train accuracy: 99.58%\n",
            "Test loss: 0.00658 | Test accuracy: 99.80%\n",
            "\n",
            "Epoch: 20\n",
            "--------\n",
            "Train loss: 0.01166 | Train accuracy: 99.58%\n",
            "Test loss: 0.00611 | Test accuracy: 99.81%\n",
            "\n",
            "Epoch: 21\n",
            "--------\n",
            "Train loss: 0.01003 | Train accuracy: 99.67%\n",
            "Test loss: 0.00837 | Test accuracy: 99.73%\n",
            "\n",
            "Epoch: 22\n",
            "--------\n",
            "Train loss: 0.01076 | Train accuracy: 99.61%\n",
            "Test loss: 0.00731 | Test accuracy: 99.75%\n",
            "\n",
            "Epoch: 23\n",
            "--------\n",
            "Train loss: 0.01096 | Train accuracy: 99.61%\n",
            "Test loss: 0.01118 | Test accuracy: 99.60%\n",
            "\n",
            "Epoch: 24\n",
            "--------\n",
            "Train loss: 0.00916 | Train accuracy: 99.67%\n",
            "Test loss: 0.00459 | Test accuracy: 99.84%\n",
            "\n",
            "Epoch: 25\n",
            "--------\n",
            "Train loss: 0.00906 | Train accuracy: 99.71%\n",
            "Test loss: 0.00784 | Test accuracy: 99.71%\n",
            "\n",
            "Epoch: 26\n",
            "--------\n",
            "Train loss: 0.00831 | Train accuracy: 99.72%\n",
            "Test loss: 0.00676 | Test accuracy: 99.77%\n",
            "\n",
            "Epoch: 27\n",
            "--------\n",
            "Train loss: 0.00955 | Train accuracy: 99.67%\n",
            "Test loss: 0.01047 | Test accuracy: 99.61%\n",
            "\n",
            "Epoch: 28\n",
            "--------\n",
            "Train loss: 0.00936 | Train accuracy: 99.67%\n",
            "Test loss: 0.01105 | Test accuracy: 99.61%\n",
            "\n",
            "Epoch: 29\n",
            "--------\n",
            "Train loss: 0.00724 | Train accuracy: 99.73%\n",
            "Test loss: 0.00678 | Test accuracy: 99.77%\n",
            "\n",
            "Train time on cpu: 610.068 seconds\n"
          ]
        }
      ],
      "source": [
        "model_exe = model_exe.to(device_cpu)\n",
        "epochs = 30\n",
        "for epoch in tqdm(range(epochs)):\n",
        "    print(f\"Epoch: {epoch}\\n--------\")\n",
        "    train_step(data_loader=train_loader,\n",
        "               model=model_exe,\n",
        "               loss_fn=loss_fn,\n",
        "               optimizer=optimizer,\n",
        "               accuracy_fn=accuracy_fn,\n",
        "               device=device_cpu)\n",
        "    test_step(data_loader=test_loader,\n",
        "              model=model_exe,\n",
        "              loss_fn=loss_fn,\n",
        "              accuracy_fn=accuracy_fn,\n",
        "              device=device_cpu)\n",
        "train_time_end_model_2 = timer()\n",
        "total_train_time_model_2 = print_train_time(start=train_time_start_model_2,\n",
        "                                            end=train_time_end_model_2,\n",
        "                                            device=device_cpu)"
      ]
    },
    {
      "cell_type": "markdown",
      "metadata": {
        "id": "w1CsHhPpxp1w"
      },
      "source": [
        "## 10. Make predictions using your trained model and visualize at least 5 of them comparing the prediciton to the target label."
      ]
    },
    {
      "cell_type": "code",
      "execution_count": 31,
      "metadata": {
        "id": "_YGgZvSobNxu"
      },
      "outputs": [
        {
          "name": "stdout",
          "output_type": "stream",
          "text": [
            "Test sample image shape: torch.Size([1, 28, 28])\n",
            " Test sample label: 9 (9 - nine)\n"
          ]
        },
        {
          "data": {
            "image/png": "[encoded data removed]",
            "text/plain": [
              "<Figure size 900x900 with 9 Axes>"
            ]
          },
          "metadata": {},
          "output_type": "display_data"
        }
      ],
      "source": [
        "def make_predictions(model: torch.nn.Module, data:list, device: torch.device = device_gpu):\n",
        "    pred_probs = []\n",
        "    model.eval()\n",
        "    with torch.inference_mode():\n",
        "        for sample in data:\n",
        "            #Prepare sample\n",
        "            sample = torch.unsqueeze(sample, dim=0).to(device)\n",
        "\n",
        "            pred_logit = model(sample)\n",
        "\n",
        "            pred_prob = torch.softmax(pred_logit.squeeze(), dim=0)\n",
        "\n",
        "            pred_probs.append(pred_prob.cpu())\n",
        "\n",
        "    return torch.stack(pred_probs)\n",
        "import random\n",
        "random.seed(42)\n",
        "test_samples = []\n",
        "test_labels = []\n",
        "for sample, label in random.sample(list(test_data), k=9):\n",
        "    test_samples.append(sample)\n",
        "    test_labels.append(label)\n",
        "pred_probs = make_predictions(model=model_exe,\n",
        "                              data=test_samples)\n",
        "pred_classes = pred_probs.argmax(dim=1)\n",
        "\n",
        "print(f\"Test sample image shape: {test_samples[0].shape}\\n Test sample label: {test_labels[0]} ({train_data.classes[test_labels[0]]})\")\n",
        "plt.figure(figsize=(9,9))\n",
        "\n",
        "nrows = 3\n",
        "ncols = 3\n",
        "for i, sample in enumerate(test_samples):\n",
        "    plt.subplot(nrows, ncols, i+1)\n",
        "    plt.imshow(sample.squeeze(), cmap=\"gray\")\n",
        "    pred_label = train_data.classes[pred_classes[i]]\n",
        "    truth_label = train_data.classes[test_labels[i]]\n",
        "    title_text = f\"Pred: {pred_label} | Truth: {truth_label}\"\n",
        "    if pred_label == truth_label:\n",
        "        plt.title(title_text, fontsize=10,color=\"green\")\n",
        "    else:\n",
        "        plt.title(title_text, fontsize=10,color=\"red\")\n",
        "\n",
        "    plt.axis(False)"
      ]
    },
    {
      "cell_type": "markdown",
      "metadata": {
        "id": "qQwzqlBWxrpG"
      },
      "source": [
        "## 11. Plot a confusion matrix comparing your model's predictions to the truth labels."
      ]
    },
    {
      "cell_type": "code",
      "execution_count": 32,
      "metadata": {
        "id": "vSrXiT_AbQ6e"
      },
      "outputs": [
        {
          "data": {
            "application/vnd.jupyter.widget-view+json": {
              "model_id": "1161ea17304541faa5cb9c130d25d813",
              "version_major": 2,
              "version_minor": 0
            },
            "text/plain": [
              "Making Predictions:   0%|          | 0/1875 [00:00<?, ?it/s]"
            ]
          },
          "metadata": {},
          "output_type": "display_data"
        },
        {
          "data": {
            "image/png": "[encoded data removed]",
            "text/plain": [
              "<Figure size 1000x700 with 1 Axes>"
            ]
          },
          "metadata": {},
          "output_type": "display_data"
        }
      ],
      "source": [
        "from tqdm.auto import tqdm\n",
        "y_preds = []\n",
        "model_exe.eval()\n",
        "with torch.inference_mode():\n",
        "    for X, y in tqdm(test_loader, desc=\"Making Predictions\"):\n",
        "        X, y = X.to(device_gpu), y.to(device_gpu)\n",
        "        y_logit = model_exe(X)\n",
        "        y_pred = torch.softmax(y_logit, dim=1)\n",
        "        y_preds.append(y_pred.cpu())\n",
        "y_pred_tensor = torch.cat(y_preds)\n",
        "from torchmetrics import ConfusionMatrix\n",
        "from mlxtend.plotting import plot_confusion_matrix\n",
        "\n",
        "confmat = ConfusionMatrix(num_classes=len(train_data.classes), task=\"multiclass\")\n",
        "confmat_tensor = confmat(preds=y_pred_tensor,\n",
        "                         target=test_data.targets)\n",
        "fig, ax = plot_confusion_matrix(\n",
        "            conf_mat = confmat_tensor.numpy(),\n",
        "            class_names=train_data.classes,\n",
        "            figsize=(10, 7));"
      ]
    },
    {
      "cell_type": "markdown",
      "metadata": {
        "id": "lj6bDhoWxt2y"
      },
      "source": [
        "## 12. Create a random tensor of shape `[1, 3, 64, 64]` and pass it through a `nn.Conv2d()` layer with various hyperparameter settings (these can be any settings you choose), what do you notice if the `kernel_size` parameter goes up and down?"
      ]
    },
    {
      "cell_type": "code",
      "execution_count": null,
      "metadata": {
        "id": "leCTsqtSbR5P"
      },
      "outputs": [],
      "source": []
    },
    {
      "cell_type": "markdown",
      "metadata": {
        "id": "VHS20cNTxwSi"
      },
      "source": [
        "## 13. Use a model similar to the trained `model_2` from notebook 03 to make predictions on the test [`torchvision.datasets.FashionMNIST`](https://pytorch.org/vision/main/generated/torchvision.datasets.FashionMNIST.html) dataset. \n",
        "* Then plot some predictions where the model was wrong alongside what the label of the image should've been. \n",
        "* After visualing these predictions do you think it's more of a modelling error or a data error? \n",
        "* As in, could the model do better or are the labels of the data too close to each other (e.g. a \"Shirt\" label is too close to \"T-shirt/top\")?"
      ]
    },
    {
      "cell_type": "code",
      "execution_count": null,
      "metadata": {
        "id": "78a8LjtdbSZj"
      },
      "outputs": [],
      "source": []
    }
  ],
  "metadata": {
    "accelerator": "GPU",
    "colab": {
      "authorship_tag": "ABX9TyMUsDcN/+FAm9Pf7Ifqs6AZ",
      "collapsed_sections": [],
      "include_colab_link": true,
      "name": "03_pytorch_computer_vision_exercises.ipynb",
      "provenance": []
    },
    "kernelspec": {
      "display_name": "Python 3",
      "name": "python3"
    },
    "language_info": {
      "codemirror_mode": {
        "name": "ipython",
        "version": 3
      },
      "file_extension": ".py",
      "mimetype": "text/x-python",
      "name": "python",
      "nbconvert_exporter": "python",
      "pygments_lexer": "ipython3",
      "version": "3.11.5"
    }
  },
  "nbformat": 4,
  "nbformat_minor": 0
}
